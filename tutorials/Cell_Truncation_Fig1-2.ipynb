{
 "cells": [
  {
   "cell_type": "markdown",
   "metadata": {},
   "source": [
    "# Measuring Cell Truncation\n",
    "\n",
    "Many morphological cell-typing methods rely on dendritic and/or axonal features that require near complete cell reconstructions. While the automated segmentation is very impressive, most cells require extensive proofreading to reach the level of reconstruction needed for cell-typing. This notebook will walk through how we measured the levels of cell truncation due to segmentation errors and volume boundaries to illustrate the need for a truncation insensitive method for dataset wide cell-typing."
   ]
  },
  {
   "cell_type": "code",
   "execution_count": 8,
   "id": "dadee4d4",
   "metadata": {},
   "outputs": [],
   "source": [
    "import pandas as pd\n",
    "import numpy as np\n",
    "import seaborn as sns\n",
    "import caveclient\n",
    "import scipy as sp\n",
    "import matplotlib.pyplot as plt"
   ]
  },
  {
   "cell_type": "markdown",
   "metadata": {},
   "source": [
    "# Volume Boundary Truncations\n",
    "\n",
    "To estimate the percent of cells whose morphologies would be substantially truncated due to being near the volume boundaries, we measured the radial extent for a densely sampled subset of neurons. These cells were selected from an internal column of the dataset and include cells from Layer I - Layer VI. More details about these cells and the subsequent analysis can be found in the following manuscripts (Elabbady 2022 and Schneider-Mizell 2023) "
   ]
  },
  {
   "cell_type": "code",
   "execution_count": 3,
   "id": "c1ed9d70",
   "metadata": {},
   "outputs": [
    {
     "data": {
      "text/html": [
       "<div>\n",
       "<style scoped>\n",
       "    .dataframe tbody tr th:only-of-type {\n",
       "        vertical-align: middle;\n",
       "    }\n",
       "\n",
       "    .dataframe tbody tr th {\n",
       "        vertical-align: top;\n",
       "    }\n",
       "\n",
       "    .dataframe thead th {\n",
       "        text-align: right;\n",
       "    }\n",
       "</style>\n",
       "<table border=\"1\" class=\"dataframe\">\n",
       "  <thead>\n",
       "    <tr style=\"text-align: right;\">\n",
       "      <th></th>\n",
       "      <th>root_id</th>\n",
       "      <th>radial_extent_dendrite</th>\n",
       "      <th>classification_system</th>\n",
       "      <th>cell_type</th>\n",
       "      <th>id</th>\n",
       "    </tr>\n",
       "  </thead>\n",
       "  <tbody>\n",
       "    <tr>\n",
       "      <th>0</th>\n",
       "      <td>864691135570190726</td>\n",
       "      <td>147.441307</td>\n",
       "      <td>aibs_coarse_excitatory</td>\n",
       "      <td>L2c</td>\n",
       "      <td>256546</td>\n",
       "    </tr>\n",
       "    <tr>\n",
       "      <th>1</th>\n",
       "      <td>864691136619397005</td>\n",
       "      <td>111.716174</td>\n",
       "      <td>aibs_coarse_excitatory</td>\n",
       "      <td>L3a</td>\n",
       "      <td>258317</td>\n",
       "    </tr>\n",
       "    <tr>\n",
       "      <th>2</th>\n",
       "      <td>864691135737224836</td>\n",
       "      <td>154.055844</td>\n",
       "      <td>aibs_coarse_excitatory</td>\n",
       "      <td>L6wm</td>\n",
       "      <td>312015</td>\n",
       "    </tr>\n",
       "    <tr>\n",
       "      <th>3</th>\n",
       "      <td>864691135941715060</td>\n",
       "      <td>138.142983</td>\n",
       "      <td>aibs_coarse_excitatory</td>\n",
       "      <td>L6wm</td>\n",
       "      <td>347173</td>\n",
       "    </tr>\n",
       "    <tr>\n",
       "      <th>4</th>\n",
       "      <td>864691135476662696</td>\n",
       "      <td>117.010702</td>\n",
       "      <td>aibs_coarse_excitatory</td>\n",
       "      <td>L6tall-a</td>\n",
       "      <td>307222</td>\n",
       "    </tr>\n",
       "  </tbody>\n",
       "</table>\n",
       "</div>"
      ],
      "text/plain": [
       "              root_id  radial_extent_dendrite   classification_system  \\\n",
       "0  864691135570190726              147.441307  aibs_coarse_excitatory   \n",
       "1  864691136619397005              111.716174  aibs_coarse_excitatory   \n",
       "2  864691135737224836              154.055844  aibs_coarse_excitatory   \n",
       "3  864691135941715060              138.142983  aibs_coarse_excitatory   \n",
       "4  864691135476662696              117.010702  aibs_coarse_excitatory   \n",
       "\n",
       "  cell_type      id  \n",
       "0       L2c  256546  \n",
       "1       L3a  258317  \n",
       "2      L6wm  312015  \n",
       "3      L6wm  347173  \n",
       "4  L6tall-a  307222  "
      ]
     },
     "execution_count": 3,
     "metadata": {},
     "output_type": "execute_result"
    }
   ],
   "source": [
    "column_df = pd.read_feather('../data/column_radial_truncation_v795.feather')\n",
    "column_df.head()"
   ]
  },
  {
   "cell_type": "code",
   "execution_count": 20,
   "id": "25fedea0",
   "metadata": {},
   "outputs": [
    {
     "data": {
      "image/png": "[encoded data removed]",
      "text/plain": [
       "<Figure size 720x288 with 2 Axes>"
      ]
     },
     "metadata": {
      "needs_background": "light"
     },
     "output_type": "display_data"
    }
   ],
   "source": [
    "\n",
    "#Plotting a histogram of the radial extent of all the neurons in the column\n",
    "f, ax = plt.subplots(1,2,figsize=(10,4),gridspec_kw={'width_ratios': [2, 1]})\n",
    "sns.histplot(column_df.radial_extent_dendrite,bins=100,color='teal',alpha=0.5,ax=ax[0])\n",
    "ax[0].set_xlabel('')\n",
    "ax[0].set_ylabel('Number of cells')\n",
    "ax[0].set_title('Radial Extent of Dendrites in the Column')\n",
    "\n",
    "#Calculating the cumulative distribution of these cells with respect to radial exent\n",
    "all_vals = []  \n",
    "vals, edges = np.histogram(column_df.radial_extent_dendrite, bins=100)\n",
    "pdf = vals / sum(vals)   \n",
    "cdf = np.cumsum(pdf)\n",
    "\n",
    "#Plotting the cumulative distribution\n",
    "ax[1].set_xlabel('Radial Extent (um)', size=16)    \n",
    "ax[1].plot(edges[:-1], cdf, color='teal', linewidth=3)\n",
    "\n",
    "plt.show()"
   ]
  },
  {
   "cell_type": "markdown",
   "metadata": {},
   "source": [
    "Now let's look at how this compares to the rest of the rest of the cells in the dataset, irrespective of their reconstruction status"
   ]
  },
  {
   "cell_type": "code",
   "execution_count": 7,
   "id": "33fa8d38",
   "metadata": {},
   "outputs": [],
   "source": [
    "#Reading in the nucleus table with all the cells in the dataset\n",
    "client = caveclient.CAVEclient('minnie65_phase3_v1')\n",
    "nuc_df = client.materialize.query_table('nucleus_detection_v0',split_positions=True)\n",
    "mm_df = client.materialize.query_table('aibs_metamodel_celltypes_v661')\n",
    "\n",
    "#Filtering out any error cells by selecting only those in the latest cell-type table\n",
    "mm_ids = mm_df.id_ref.tolist()\n",
    "nuc_df = nuc_df.query('id in @mm_ids')"
   ]
  },
  {
   "cell_type": "code",
   "execution_count": 9,
   "id": "330c9427",
   "metadata": {},
   "outputs": [],
   "source": [
    "#Converting our positions into nanometers\n",
    "nuc_df['pt_position_z_nm'] = nuc_df.pt_position_z * 40\n",
    "nuc_df['pt_position_x_nm'] = nuc_df.pt_position_x * 4\n",
    "nuc_df['pt_position_y_nm'] = nuc_df.pt_position_y * 4"
   ]
  },
  {
   "cell_type": "markdown",
   "metadata": {},
   "source": [
    "Detecting the volume boundaries in the Z axis is pretty straight forward as it defined defined by the first and last section collected and is consistent across the volume. However, the X axis is a little more nuanced since there can be a little jitter after all the sections have been realigned. To account for this, we binned the entire volume and took the average minimum and maximum in X as the volume edge for each bin."
   ]
  },
  {
   "cell_type": "code",
   "execution_count": 21,
   "id": "eb3a246f",
   "metadata": {},
   "outputs": [],
   "source": [
    "res = 5000\n",
    "min_z = nuc_df.pt_position_z_nm.min()\n",
    "max_z = nuc_df.pt_position_z_nm.max() \n",
    "\n",
    "#Calculating the left edge of the volume for each bin\n",
    "min_vol=sp.stats.binned_statistic(nuc_df.pt_position_z_nm, nuc_df.pt_position_x_nm,\n",
    " bins=np.arange(min_z, max_z,res), statistic='min')\n",
    "\n",
    "#Calculating the right edge of the volume for each bin\n",
    "max_vol=sp.stats.binned_statistic(nuc_df.pt_position_z_nm, nuc_df.pt_position_x_nm,\n",
    " bins=np.arange(min_z, max_z,res), statistic='max')"
   ]
  },
  {
   "cell_type": "code",
   "execution_count": 12,
   "id": "600f5e95",
   "metadata": {},
   "outputs": [],
   "source": [
    "nuc_df['binnumber'] = min_vol.binnumber"
   ]
  },
  {
   "cell_type": "markdown",
   "metadata": {},
   "source": [
    "Now that that's done, we can measure the minimum distance for each cell from the edges of the volume in X and Z."
   ]
  },
  {
   "cell_type": "code",
   "execution_count": 13,
   "id": "b07261d9",
   "metadata": {},
   "outputs": [],
   "source": [
    "#calculate the min z distance for each cell\n",
    "back_dist = nuc_df.pt_position_z_nm - min_z\n",
    "front_dist = max_z = nuc_df.pt_position_z_nm \n",
    "\n",
    "min_dist = []\n",
    "for t in zip(back_dist,front_dist):\n",
    "    back = t[0]\n",
    "    front = t[1]\n",
    "    if back <= front:\n",
    "        min_dist.append(back)\n",
    "    else:\n",
    "        min_dist.append(front)\n",
    "        \n",
    "nuc_df['min_dist_z_nm'] = min_dist\n",
    "nuc_df['min_dist_z'] = nuc_df['min_dist_z_nm']/1000"
   ]
  },
  {
   "cell_type": "code",
   "execution_count": 14,
   "id": "bfd7260c",
   "metadata": {},
   "outputs": [],
   "source": [
    "#calculate the min x distance for each cell\n",
    "min_dist = []\n",
    "for ix,i in nuc_df.iterrows():\n",
    "    binnum = i.binnumber\n",
    "    if binnum == 101:\n",
    "        binnum=100\n",
    "    minx = min_vol.statistic[binnum-1]\n",
    "    maxx = max_vol.statistic[binnum-1]\n",
    "    \n",
    "    minx_dist = i.pt_position_x_nm - minx\n",
    "    #if minx_dist < 0:\n",
    "        #print('minx_dist!')\n",
    "    maxx_dist = maxx = i.pt_position_x_nm \n",
    "    if minx_dist <= maxx_dist:\n",
    "        min_dist.append(minx_dist)\n",
    "    else:\n",
    "        min_dist.append(maxx_dist)\n",
    "        \n",
    "nuc_df['min_dist_x_nm'] = min_dist\n",
    "nuc_df['min_dist_x'] = nuc_df['min_dist_x_nm']/1000"
   ]
  },
  {
   "cell_type": "markdown",
   "metadata": {},
   "source": [
    "To approximate how close each cell is, we will take the minimum distance to any of the four borders. So if one cell is very close to the left edge of the volume but centered with respect to Z, we will take the distance from that cell's soma to the left edge."
   ]
  },
  {
   "cell_type": "code",
   "execution_count": 16,
   "id": "6a2f185e",
   "metadata": {},
   "outputs": [],
   "source": [
    "min_dist = []\n",
    "for t in zip(nuc_df.min_dist_z,nuc_df.min_dist_x):\n",
    "    z = t[0]\n",
    "    x = t[1]\n",
    "    if z <= x:\n",
    "        min_dist.append(z)\n",
    "    else:\n",
    "        min_dist.append(x)\n",
    "        \n",
    "nuc_df['min_dist_border'] = min_dist"
   ]
  },
  {
   "cell_type": "code",
   "execution_count": 18,
   "id": "e8d7fac6",
   "metadata": {},
   "outputs": [],
   "source": [
    "median_radius = column_df.radial_extent_dendrite.median() #to plot on top of the entire dataset"
   ]
  },
  {
   "cell_type": "markdown",
   "metadata": {},
   "source": [
    "Now that we have the minimum distances from the border for each cell, let's compare how the distributions compare to the proofread column from above"
   ]
  },
  {
   "cell_type": "code",
   "execution_count": 19,
   "id": "9f7c88bc",
   "metadata": {},
   "outputs": [
    {
     "data": {
      "text/plain": [
       "<matplotlib.collections.LineCollection at 0x7fdba1677150>"
      ]
     },
     "execution_count": 19,
     "metadata": {},
     "output_type": "execute_result"
    },
    {
     "data": {
      "image/png": "[encoded data removed]",
      "text/plain": [
       "<Figure size 1080x720 with 4 Axes>"
      ]
     },
     "metadata": {
      "needs_background": "light"
     },
     "output_type": "display_data"
    }
   ],
   "source": [
    "f, ax = plt.subplots(2,2,figsize=(15,10),gridspec_kw={'width_ratios': [3, 1]})\n",
    "\n",
    "#Replotting the column histogram from above\n",
    "sns.histplot(column_df.radial_extent_dendrite,bins=100,color='teal',\n",
    "             element=\"step\", fill=True,\n",
    "             alpha=0.5,ax=ax[0,0])\n",
    "ax[0,0].set_xlabel('Radial Extent of Dendrites from Column Cells (um)', size=16)    \n",
    "ax[0,0].set_xlim((-25,525)) \n",
    "\n",
    "#Plotting a histogram of distances from the border across the dataset\n",
    "sns.histplot(nuc_df.min_dist_border,bins=100,color='gray',\n",
    "             element=\"step\", fill=True,\n",
    "             alpha=0.5,ax=ax[1,0])\n",
    "ax[1,0].set_xlabel('Distance from Border (um) for QCed Cells (94,010)', size=16)    \n",
    "ax[1,0].vlines(x=median_radius, ymin=0, ymax=1400, colors='teal', ls='--', lw=3)\n",
    "\n",
    "#Replotting the column cumulative data from above\n",
    "all_vals = []  \n",
    "vals, edges = np.histogram(column_df.radial_extent_dendrite, bins=100)\n",
    "pdf = vals / sum(vals)   \n",
    "cdf = np.cumsum(pdf)\n",
    "ax[0,1].set_xlabel('Radial Extent (um)', size=16)    \n",
    "ax[0,1].plot(edges[:-1], cdf, color='teal', linewidth=3)\n",
    "ax[0,1].set_xlim((-15,525)) \n",
    "\n",
    "#Plotting the cumulative distances across the dataset\n",
    "all_vals = []  \n",
    "vals, edges = np.histogram(nuc_df.min_dist_border, bins=100)\n",
    "pdf = vals / sum(vals)   \n",
    "cdf = np.cumsum(pdf)\n",
    "ax[1,1].set_xlabel('Distance from Border (um)', size=16)    \n",
    "ax[1,1].plot(edges[:-1], cdf, color='gray', linewidth=3)\n",
    "ax[1,1].vlines(x=median_radius, ymin=0, ymax=1, colors='teal', ls='--', lw=3)\n",
    "\n",
    "plt.show()"
   ]
  },
  {
   "cell_type": "markdown",
   "metadata": {},
   "source": [
    "# Segmentation Errors"
   ]
  },
  {
   "cell_type": "code",
   "execution_count": null,
   "id": "bbb333a4",
   "metadata": {},
   "outputs": [],
   "source": []
  }
 ],
 "metadata": {
  "kernelspec": {
   "display_name": "Python 3",
   "language": "python",
   "name": "python3"
  },
  "language_info": {
   "codemirror_mode": {
    "name": "ipython",
    "version": 3
   },
   "file_extension": ".py",
   "mimetype": "text/x-python",
   "name": "python",
   "nbconvert_exporter": "python",
   "pygments_lexer": "ipython3",
   "version": "3.7.10"
  }
 },
 "nbformat": 4,
 "nbformat_minor": 5
}
